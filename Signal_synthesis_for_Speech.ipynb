{
 "cells": [
  {
   "cell_type": "code",
   "execution_count": 1,
   "metadata": {
    "id": "w3ZHNHoQS1IB"
   },
   "outputs": [],
   "source": [
    "import librosa #Import the librosa library, which is used for audio and music analysis.\n",
    "import librosa.display # Import the librosa.display submodule for displaying audio-related visualizations.\n",
    "import matplotlib.pyplot as plt # Import the matplotlib.pyplot module for creating plots and visualizations.\n",
    "import numpy as np # Import numpy as np, Numpy is used for numerical computations.\n",
    "import scipy as sp # Scipy is used for scientific and technical computing.\n",
    "from scipy import signal # Import the signal module from scipy for signal processing functions.\n",
    "import random #provides various random number generators.\n",
    "from scipy.signal import lfilter, freqz #Imports functions of linear filter and frequency Response of a filter.\n",
    "from IPython.display import display, Audio, HTML # Import the display, Audio, and HTML classes/functions from the IPython.display module."
   ]
  },
  {
   "cell_type": "code",
   "execution_count": 2,
   "metadata": {
    "colab": {
     "base_uri": "https://localhost:8080/"
    },
    "id": "Lu4iob00VeqQ",
    "outputId": "5bf462b9-4153-4f2f-924a-bc872de6399a"
   },
   "outputs": [],
   "source": [
    "def generate_excitation(fs, dur, f0, b, a):\n",
    "    samples = int(fs * dur)\n",
    "    periods = int(f0 * dur)\n",
    "    \n",
    "    excitation = np.zeros(samples)  # Create an array of zeros to represent the excitation signal\n",
    "\n",
    "    for i in range(periods):\n",
    "        start = int(i * fs / f0)  # Calculate the index where the period's positive excitation starts\n",
    "        excitation[start] = 1.0\n",
    "\n",
    "        end = int((i + 0.5) * fs / f0)  # Calculate the index where the period's negative excitation starts\n",
    "        excitation[end] = -1.0\n",
    "\n",
    "    output = lfilter(b, a, excitation)  # Apply a filter to the excitation signal using coefficients 'b' and 'a'\n",
    "\n",
    "    return output"
   ]
  },
  {
   "cell_type": "code",
   "execution_count": 3,
   "metadata": {
    "id": "YXk-4Vo0f6TH"
   },
   "outputs": [],
   "source": [
    "def sound(f0,f1,b1):\n",
    "    envelope = np.exp(-b1*t) # Create an envelope by calculating the exponential decay\n",
    "    wave = envelope*np.sin(2*np.pi*(f0+(f1-f0)*t)*t) # Generate a waveform by combining the envelope with a sinusoidal wave and the frequency of the sinusoidal wave varies linearly from f0 to f1 over time.\n",
    "    return wave"
   ]
  },
  {
   "cell_type": "code",
   "execution_count": 4,
   "metadata": {
    "id": "9NWFtqZJkJmm"
   },
   "outputs": [],
   "source": [
    "def glottal_pulse(f0, t): # Define a function that generates a glottal pulse waveform\n",
    "    return 0.5*(1-np.cos(2*np.pi*f0*t))\n",
    "\n",
    "def formant_filter(source, freq, t): # Define a function that generates a glottal pulse waveform\n",
    "    sigma = 2*b*np.pi/fs\n",
    "    theta = 2*np.pi*freq/fs\n",
    "    r = np.exp(-sigma)\n",
    "    c0 = 2*r*np.cos(theta)\n",
    "    output = np.zeros_like(source)\n",
    "    for i in range(2, len(t)):\n",
    "        output[i] = c0*source[i-1] - r*output[i-1] - r*output[i-2] # Apply the formant filter equation to compute the output at the current time step\n",
    "    return output"
   ]
  },
  {
   "cell_type": "code",
   "execution_count": null,
   "metadata": {},
   "outputs": [],
   "source": [
    "def synthesize_signal(F0, F1, F2, F3, t):\n",
    "    return np.sin(2 * np.pi * F0 * t) * np.exp(-2j * np.pi * F1 * t) * np.exp(-2j * np.pi * F2 * t) * np.exp(-2j * np.pi * F3 * t)\n",
    "\n",
    "def extract_segment(signal, sample_rate, segment_duration=0.001):\n",
    "    segment_length = int(sample_rate * segment_duration)  # 1 ms\n",
    "    start_index = len(signal) // 2 - segment_length // 2\n",
    "    end_index = start_index + segment_length\n",
    "    return signal[start_index:end_index]\n",
    "\n",
    "def compute_magnitude_spectrum(signal, window_length, sample_rate):\n",
    "    window_size = int(window_length * sample_rate)\n",
    "    dft = np.fft.fft(signal, n=window_size)\n",
    "    magnitude_dB = 20 * np.log10(np.abs(dft))\n",
    "    freq_axis = np.fft.fftfreq(window_size, 1 / sample_rate)\n",
    "    return magnitude_dB, freq_axis"
   ]
  },
  {
   "cell_type": "markdown",
   "metadata": {
    "id": "jAR2qO4wr_e4"
   },
   "source": [
    "Use glottal pulse shaping and lip radiation filtering. Add a small amount of aspiration noise\n",
    "and pitch jitter to enhance naturalness"
   ]
  },
  {
   "cell_type": "code",
   "execution_count": 5,
   "metadata": {
    "id": "BFo1_1a0pf1t"
   },
   "outputs": [],
   "source": [
    "def glottal_pulse_shaping(f0,t):\n",
    "    #return glottal_pulse(f0,t)*np.exp(-10*t)\n",
    "    return 0.5*(1-np.cos(2*np.pi*f0*t))*np.exp(-10*t)\n",
    "# Create a glottal pulse signal by multiplying the glottal pulse waveform with an exponential decay\n",
    "def lip_radiation_filter(source, t):\n",
    "    lip_coeff = 0.01 # Define a coefficient for the lip radiation filter\n",
    "    lip_out = np.zeros_like(source) # Define a coefficient for the lip radiation filter, zeros_like() function in Python is used to return an array of zeros with the same shape and data type as the array passed to it\n",
    "    # Apply the lip radiation filter to the source signal\n",
    "    for i in range(2, len(t)):\n",
    "        lip_out[i] = (1-lip_coeff)*source[i]+lip_coeff*source[i-1]\n",
    "    return lip_out\n",
    "\n",
    "def lip_formant_filter(source,freq,t):\n",
    "    a, b = formant_filter(freq,t) # Get coefficients for the formant filter based on frequency and tim\n",
    "    output = np.zeros_like(source)\n",
    "    for i in range(2, len(t)):\n",
    "        output[i] = b*source[i-1]-a*output[i-1]-a*output[i-2]\n",
    "    return output\n",
    "\n",
    "def aspiration_noise(signal, intensity): # Generate white noise with specified intensity\n",
    "    noise = np.random.normal(0, intensity, len(signal))\n",
    "    return signal + noise  # Add the generated noise to the input signal\n",
    "\n",
    "def pitch_jitter(f0, jitter_factor):\n",
    "    jitter = np.random.normal(0, jitter_factor, len(t)) # Generate random jitter values and add them to the original pitch values\n",
    "    return f0 + jitter"
   ]
  }
 ],
 "metadata": {
  "colab": {
   "provenance": []
  },
  "kernelspec": {
   "display_name": "Python 3 (ipykernel)",
   "language": "python",
   "name": "python3"
  },
  "language_info": {
   "codemirror_mode": {
    "name": "ipython",
    "version": 3
   },
   "file_extension": ".py",
   "mimetype": "text/x-python",
   "name": "python",
   "nbconvert_exporter": "python",
   "pygments_lexer": "ipython3",
   "version": "3.10.11"
  }
 },
 "nbformat": 4,
 "nbformat_minor": 4
}
